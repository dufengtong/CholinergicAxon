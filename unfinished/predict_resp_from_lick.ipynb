{
 "cells": [
  {
   "cell_type": "code",
   "execution_count": 4,
   "id": "d0be5fdf",
   "metadata": {},
   "outputs": [],
   "source": [
    "import matplotlib.pyplot as plt\n",
    "import numpy as np\n",
    "from sklearn.linear_model import LogisticRegression\n",
    "from sklearn.metrics import classification_report, confusion_matrix\n",
    "from rastermap import Rastermap\n",
    "from scipy.signal import savgol_filter\n",
    "cmap = plt.cm.get_cmap('viridis_r')\n",
    "\n",
    "import os\n",
    "import scipy.io\n",
    "from mpl_toolkits.axes_grid1 import make_axes_locatable\n",
    "from scipy.stats import pearsonr, zscore\n",
    "from scipy.io import savemat\n",
    "import random\n",
    "from utils import daily_blocks, extract_all_licks, get_tone_response_df, block_stim_evoke_response, load_behavior_txt\n",
    "from sklearn.decomposition import PCA\n",
    "plt.rcParams['axes.facecolor'] = 'white'\n",
    "outcome_list = ['Hit', 'Miss', 'FA', 'CR']\n",
    "mouse_names = ['jl009', 'fz017', 'fz009', 'fz006']\n",
    "data_paths = [\"Z:/Jenni/jl009/behavimaging.mat\",\n",
    "             \"W:/Jenni/fz017/behavimaging.mat\",\n",
    "             \"Y:/Jenni/fz009/behavimaging.mat\",\n",
    "             \"Y:/sarah/fz006/behavimaging.mat\"]\n",
    "disks = ['Z', 'W', 'Y', 'Y']\n",
    "\n",
    "mouse_id = 0\n",
    "thresh = 0.05 # correlation threshold for selecting important axons\n",
    "mouse_name = mouse_names[mouse_id]\n",
    "disk = disks[mouse_id]\n",
    "\n",
    "data_path = \"{}_behavimaging.mat\".format(mouse_name)\n",
    "mat = scipy.io.loadmat(data_path)\n",
    "data = mat['behavimaging']\n",
    "nBlocks = data.shape[-1]\n",
    "nDays = data[0, -1]['day'][0][0]\n",
    "valid_days = []\n",
    "for day in range(1, nDays+1):\n",
    "    iblocks = daily_blocks(data, day)\n",
    "    if len(iblocks)>0:\n",
    "        valid_days.append(day)\n",
    "        \n",
    "# cmap = plt.cm.get_cmap('viridis_r')\n",
    "if mouse_name == 'jl009':\n",
    "    valid_days = [1, 2, 3, 5, 6, 7, 8, 9, 15]\n",
    "    im_proportion = 0.3\n",
    "if mouse_name == 'fz017':\n",
    "    valid_days = [1, 2, 4, 5, 6, 7, 8, 9, 10, 11, 12, 14, 15, 17, 23, 24, 25, 26]\n",
    "    im_proportion = 0.2"
   ]
  },
  {
   "cell_type": "code",
   "execution_count": 5,
   "id": "f3c28721",
   "metadata": {},
   "outputs": [
    {
     "name": "stdout",
     "output_type": "stream",
     "text": [
      "(13540,) (175, 13540)\n"
     ]
    }
   ],
   "source": [
    "# load lick data\n",
    "# load resposne data\n",
    "\n",
    "block = data[0, 0]\n",
    "raw_spks = block['imagingdata']\n",
    "NA, NT = raw_spks.shape\n",
    "spks = zscore(raw_spks, axis=1)\n",
    "# spks = sigmoid(spks)\n",
    "nan_flag = np.isnan(np.sum(spks, axis=1))\n",
    "not_nan_ind = np.where(nan_flag==False)[0]\n",
    "spks = spks[not_nan_ind]\n",
    "\n",
    "behavior = block['behavdata']\n",
    "istim = np.where(behavior[0] > 0)[0]\n",
    "cues = behavior[0, istim]\n",
    "outcomes = behavior[1, istim]\n",
    "ifirstlicks = -np.ones(len(istim))\n",
    "licks = behavior[3]\n",
    "\n",
    "print(licks.shape, spks.shape)"
   ]
  },
  {
   "cell_type": "markdown",
   "id": "b473ed35",
   "metadata": {},
   "source": [
    "# lick to response"
   ]
  },
  {
   "cell_type": "code",
   "execution_count": 6,
   "id": "09f45129",
   "metadata": {},
   "outputs": [
    {
     "ename": "IndentationError",
     "evalue": "expected an indented block (7/ipykernel_37032/2074817477.py, line 3)",
     "output_type": "error",
     "traceback": [
      "\u001b[1;36m  File \u001b[1;32m\"C:\\Users\\fdu5\\AppData\\Local\\Temp\\7/ipykernel_37032/2074817477.py\"\u001b[1;36m, line \u001b[1;32m3\u001b[0m\n\u001b[1;33m    for t in range(T):\u001b[0m\n\u001b[1;37m                      ^\u001b[0m\n\u001b[1;31mIndentationError\u001b[0m\u001b[1;31m:\u001b[0m expected an indented block\n"
     ]
    }
   ],
   "source": [
    "# train the regressor for each point of response\n",
    "# for each day\n",
    "T = len(licks)\n",
    "for t in range(T):\n",
    "    x = licks[(t-30):(t+30)]\n",
    "    y = spks[:, t] "
   ]
  },
  {
   "cell_type": "code",
   "execution_count": null,
   "id": "474b8e64",
   "metadata": {},
   "outputs": [],
   "source": [
    "from sklearn.datasets import make_regression\n",
    "from sklearn.linear_model import LinearRegression\n",
    "# create datasets\n",
    "# define model\n",
    "model = LinearRegression()\n",
    "# fit model\n",
    "model.fit(X, y)\n",
    "# make a prediction\n",
    "row = [0.21947749, 0.32948997, 0.81560036, 0.440956, -0.0606303, -0.29257894, -0.2820059, -0.00290545, 0.96402263, 0.04992249]\n",
    "yhat = model.predict([row])\n",
    "# summarize prediction\n",
    "print(yhat[0])"
   ]
  },
  {
   "cell_type": "code",
   "execution_count": null,
   "id": "6775e79f",
   "metadata": {},
   "outputs": [],
   "source": [
    "# resp -> lick, sliding window"
   ]
  }
 ],
 "metadata": {
  "kernelspec": {
   "display_name": "Fengtong-env",
   "language": "python",
   "name": "fengtong-env"
  },
  "language_info": {
   "codemirror_mode": {
    "name": "ipython",
    "version": 3
   },
   "file_extension": ".py",
   "mimetype": "text/x-python",
   "name": "python",
   "nbconvert_exporter": "python",
   "pygments_lexer": "ipython3",
   "version": "3.9.7"
  },
  "toc": {
   "base_numbering": 1,
   "nav_menu": {},
   "number_sections": true,
   "sideBar": true,
   "skip_h1_title": false,
   "title_cell": "Table of Contents",
   "title_sidebar": "Contents",
   "toc_cell": false,
   "toc_position": {},
   "toc_section_display": true,
   "toc_window_display": false
  },
  "varInspector": {
   "cols": {
    "lenName": 16,
    "lenType": 16,
    "lenVar": 40
   },
   "kernels_config": {
    "python": {
     "delete_cmd_postfix": "",
     "delete_cmd_prefix": "del ",
     "library": "var_list.py",
     "varRefreshCmd": "print(var_dic_list())"
    },
    "r": {
     "delete_cmd_postfix": ") ",
     "delete_cmd_prefix": "rm(",
     "library": "var_list.r",
     "varRefreshCmd": "cat(var_dic_list()) "
    }
   },
   "types_to_exclude": [
    "module",
    "function",
    "builtin_function_or_method",
    "instance",
    "_Feature"
   ],
   "window_display": false
  }
 },
 "nbformat": 4,
 "nbformat_minor": 5
}
